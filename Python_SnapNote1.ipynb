{
  "nbformat": 4,
  "nbformat_minor": 0,
  "metadata": {
    "colab": {
      "name": "Python_SnapNote.ipynb",
      "provenance": []
    },
    "kernelspec": {
      "name": "python3",
      "display_name": "Python 3"
    },
    "language_info": {
      "name": "python"
    }
  },
  "cells": [
    {
      "cell_type": "markdown",
      "source": [
        "#**Python Snap notes**"
      ],
      "metadata": {
        "id": "wJrgOrDMOyYD"
      }
    },
    {
      "cell_type": "markdown",
      "source": [
        "#**List**"
      ],
      "metadata": {
        "id": "1vIRzr6tO5lW"
      }
    },
    {
      "cell_type": "code",
      "source": [
        "# Represented by []\n",
        "a=['Nikunj',89]\n",
        "print(a)\n",
        "#Another way is casting \n",
        "b=list([4,6,9])\n",
        "b"
      ],
      "metadata": {
        "colab": {
          "base_uri": "https://localhost:8080/"
        },
        "id": "m2fP8p60PLzV",
        "outputId": "57b22b00-985a-4afb-caf8-2eb01003b238"
      },
      "execution_count": null,
      "outputs": [
        {
          "output_type": "stream",
          "name": "stdout",
          "text": [
            "['Nikunj', 89]\n"
          ]
        },
        {
          "output_type": "execute_result",
          "data": {
            "text/plain": [
              "[4, 6, 9]"
            ]
          },
          "metadata": {},
          "execution_count": 27
        }
      ]
    },
    {
      "cell_type": "code",
      "source": [
        "print(len(a))\n",
        "a.extend(b)\n",
        "print(a)\n",
        "c=[]\n",
        "c.append(a[2])\n",
        "print(c)\n",
        "#insert function ,pop,count,index,reverse ,sort used in list\n"
      ],
      "metadata": {
        "colab": {
          "base_uri": "https://localhost:8080/"
        },
        "id": "potJlHyMPf8q",
        "outputId": "8295c6f1-dda0-4a4e-bfaa-78a781d2ad2f"
      },
      "execution_count": null,
      "outputs": [
        {
          "output_type": "stream",
          "name": "stdout",
          "text": [
            "5\n",
            "['Nikunj', 89, 4, 6, 9, 4, 6, 9]\n",
            "[4]\n"
          ]
        }
      ]
    },
    {
      "cell_type": "markdown",
      "source": [
        "#**Tuple**"
      ],
      "metadata": {
        "id": "dfRHwYnOO-tg"
      }
    },
    {
      "cell_type": "code",
      "source": [
        "#represented by () or tuple\n",
        "#non nutuable\n",
        "print(tuple([1,2,8,9]))"
      ],
      "metadata": {
        "colab": {
          "base_uri": "https://localhost:8080/"
        },
        "id": "ZjBeTo_ZQjgL",
        "outputId": "25153340-71af-4380-b92c-7120e88e33a7"
      },
      "execution_count": null,
      "outputs": [
        {
          "output_type": "stream",
          "name": "stdout",
          "text": [
            "(1, 2, 8, 9)\n"
          ]
        }
      ]
    },
    {
      "cell_type": "markdown",
      "source": [
        "#**Dictionary**"
      ],
      "metadata": {
        "id": "0nhHoN7fPBfN"
      }
    },
    {
      "cell_type": "code",
      "source": [
        "#represented by {} or dict() Contains key and value\n",
        "#used for mapping key with their values\n",
        "a={1:'Nikunj',3:'Hola'}\n",
        "a[3]"
      ],
      "metadata": {
        "colab": {
          "base_uri": "https://localhost:8080/",
          "height": 36
        },
        "id": "FisLqwDYQyHG",
        "outputId": "d3a5b7e8-1ba7-4f82-8799-807ae36ac404"
      },
      "execution_count": null,
      "outputs": [
        {
          "output_type": "execute_result",
          "data": {
            "text/plain": [
              "'Hola'"
            ],
            "application/vnd.google.colaboratory.intrinsic+json": {
              "type": "string"
            }
          },
          "metadata": {},
          "execution_count": 33
        }
      ]
    },
    {
      "cell_type": "markdown",
      "source": [
        "#**set**"
      ],
      "metadata": {
        "id": "HdPWsIUJPEjL"
      }
    },
    {
      "cell_type": "code",
      "source": [
        "#used to remove duplicates\n",
        "#represented by {} or set()\n",
        "s=[1,4,8,1,6,1,8,3]\n",
        "print(set(s))"
      ],
      "metadata": {
        "colab": {
          "base_uri": "https://localhost:8080/"
        },
        "id": "y3nF94zKQUST",
        "outputId": "295d2679-9797-459c-fd34-aac2dbe1a800"
      },
      "execution_count": null,
      "outputs": [
        {
          "output_type": "stream",
          "name": "stdout",
          "text": [
            "{1, 3, 4, 6, 8}\n"
          ]
        }
      ]
    },
    {
      "cell_type": "markdown",
      "source": [
        "#**Numpy Practice**"
      ],
      "metadata": {
        "id": "k2DHBVTPKx2e"
      }
    },
    {
      "cell_type": "code",
      "execution_count": null,
      "metadata": {
        "id": "WzyIPxaNKvz0"
      },
      "outputs": [],
      "source": [
        "import numpy as np"
      ]
    },
    {
      "cell_type": "code",
      "source": [
        "a=np.array([1,6,9,10])\n",
        "a"
      ],
      "metadata": {
        "colab": {
          "base_uri": "https://localhost:8080/"
        },
        "id": "K64U83uiLCMd",
        "outputId": "8bedd3c2-22d1-496e-f230-ad23dbcc884e"
      },
      "execution_count": null,
      "outputs": [
        {
          "output_type": "execute_result",
          "data": {
            "text/plain": [
              "array([ 1,  6,  9, 10])"
            ]
          },
          "metadata": {},
          "execution_count": 3
        }
      ]
    },
    {
      "cell_type": "code",
      "source": [
        "b=np.random.randint(1,5,10)\n",
        "b"
      ],
      "metadata": {
        "colab": {
          "base_uri": "https://localhost:8080/"
        },
        "id": "M41CCQdLLJvM",
        "outputId": "bce3ced3-37e0-4493-f487-9235f66c527f"
      },
      "execution_count": null,
      "outputs": [
        {
          "output_type": "execute_result",
          "data": {
            "text/plain": [
              "array([2, 1, 4, 4, 1, 1, 1, 3, 3, 4])"
            ]
          },
          "metadata": {},
          "execution_count": 4
        }
      ]
    },
    {
      "cell_type": "code",
      "source": [
        "print(np.linspace(1,7,20))"
      ],
      "metadata": {
        "colab": {
          "base_uri": "https://localhost:8080/"
        },
        "id": "XcocXHbvLTO-",
        "outputId": "45e77e8e-3de6-4a05-daee-41dd6852e8e5"
      },
      "execution_count": null,
      "outputs": [
        {
          "output_type": "stream",
          "name": "stdout",
          "text": [
            "[1.         1.31578947 1.63157895 1.94736842 2.26315789 2.57894737\n",
            " 2.89473684 3.21052632 3.52631579 3.84210526 4.15789474 4.47368421\n",
            " 4.78947368 5.10526316 5.42105263 5.73684211 6.05263158 6.36842105\n",
            " 6.68421053 7.        ]\n"
          ]
        }
      ]
    },
    {
      "cell_type": "code",
      "source": [
        "x=np.random.randint(1,10,21).reshape((7,3))\n",
        "x"
      ],
      "metadata": {
        "colab": {
          "base_uri": "https://localhost:8080/"
        },
        "id": "wE3NjWhPLbVv",
        "outputId": "713749be-ab40-4da6-eaeb-121ebf8267c9"
      },
      "execution_count": null,
      "outputs": [
        {
          "output_type": "execute_result",
          "data": {
            "text/plain": [
              "array([[4, 6, 6],\n",
              "       [4, 3, 4],\n",
              "       [6, 2, 2],\n",
              "       [4, 6, 7],\n",
              "       [2, 9, 6],\n",
              "       [7, 6, 7],\n",
              "       [7, 8, 5]])"
            ]
          },
          "metadata": {},
          "execution_count": 7
        }
      ]
    },
    {
      "cell_type": "code",
      "source": [
        "y=np.random.randint(1,9,9)\n",
        "y.shape"
      ],
      "metadata": {
        "colab": {
          "base_uri": "https://localhost:8080/"
        },
        "id": "skDyMrLbLpbU",
        "outputId": "476182cb-ec82-48d1-d382-23d0ae4191fe"
      },
      "execution_count": null,
      "outputs": [
        {
          "output_type": "execute_result",
          "data": {
            "text/plain": [
              "(9,)"
            ]
          },
          "metadata": {},
          "execution_count": 9
        }
      ]
    },
    {
      "cell_type": "code",
      "source": [
        "y.reshape((3,3))\n",
        "y.dtype"
      ],
      "metadata": {
        "colab": {
          "base_uri": "https://localhost:8080/"
        },
        "id": "sphjFZDKL2Wr",
        "outputId": "b6a22c5a-fda8-4b23-cbc3-5ecde83a42d2"
      },
      "execution_count": null,
      "outputs": [
        {
          "output_type": "execute_result",
          "data": {
            "text/plain": [
              "dtype('int64')"
            ]
          },
          "metadata": {},
          "execution_count": 11
        }
      ]
    },
    {
      "cell_type": "code",
      "source": [
        "xyz=np.max(np.random.randint(1,8,10))\n",
        "xyz"
      ],
      "metadata": {
        "colab": {
          "base_uri": "https://localhost:8080/"
        },
        "id": "YS-q_SMsL_Qc",
        "outputId": "c8086eb8-5c5b-4a74-db0a-9abab8e29a0b"
      },
      "execution_count": null,
      "outputs": [
        {
          "output_type": "execute_result",
          "data": {
            "text/plain": [
              "7"
            ]
          },
          "metadata": {},
          "execution_count": 13
        }
      ]
    },
    {
      "cell_type": "code",
      "source": [
        "#Similarly for min as above using np.min()"
      ],
      "metadata": {
        "id": "bIT6718mMI2z"
      },
      "execution_count": null,
      "outputs": []
    },
    {
      "cell_type": "code",
      "source": [
        "print(np.eye(5))"
      ],
      "metadata": {
        "colab": {
          "base_uri": "https://localhost:8080/"
        },
        "id": "s4HQeK2CMPEb",
        "outputId": "85d2f104-dc5a-489c-f7a2-374efb8ee4ee"
      },
      "execution_count": null,
      "outputs": [
        {
          "output_type": "stream",
          "name": "stdout",
          "text": [
            "[[1. 0. 0. 0. 0.]\n",
            " [0. 1. 0. 0. 0.]\n",
            " [0. 0. 1. 0. 0.]\n",
            " [0. 0. 0. 1. 0.]\n",
            " [0. 0. 0. 0. 1.]]\n"
          ]
        }
      ]
    },
    {
      "cell_type": "code",
      "source": [
        "print(np.matrix([[1,2,3],[4,5,6],[7,8,9]]))"
      ],
      "metadata": {
        "colab": {
          "base_uri": "https://localhost:8080/"
        },
        "id": "EJiMa4V6MUA8",
        "outputId": "824fe2f1-bee7-41c4-ecc4-8e36b73fcc8e"
      },
      "execution_count": null,
      "outputs": [
        {
          "output_type": "stream",
          "name": "stdout",
          "text": [
            "[[1 2 3]\n",
            " [4 5 6]\n",
            " [7 8 9]]\n"
          ]
        }
      ]
    },
    {
      "cell_type": "code",
      "source": [
        "z=(np.arange(1,100,5))\n",
        "z"
      ],
      "metadata": {
        "colab": {
          "base_uri": "https://localhost:8080/"
        },
        "id": "BWIPnGN_Mg6X",
        "outputId": "3d083b16-09eb-4108-e0f1-54c713c2ff4d"
      },
      "execution_count": null,
      "outputs": [
        {
          "output_type": "execute_result",
          "data": {
            "text/plain": [
              "array([ 1,  6, 11, 16, 21, 26, 31, 36, 41, 46, 51, 56, 61, 66, 71, 76, 81,\n",
              "       86, 91, 96])"
            ]
          },
          "metadata": {},
          "execution_count": 18
        }
      ]
    },
    {
      "cell_type": "code",
      "source": [
        "m=(z.reshape((4,5)))\n",
        "m"
      ],
      "metadata": {
        "colab": {
          "base_uri": "https://localhost:8080/"
        },
        "id": "b32TTvl8M-_r",
        "outputId": "17f694dd-81c1-4d7a-a711-548c66cdd862"
      },
      "execution_count": null,
      "outputs": [
        {
          "output_type": "execute_result",
          "data": {
            "text/plain": [
              "array([[ 1,  6, 11, 16, 21],\n",
              "       [26, 31, 36, 41, 46],\n",
              "       [51, 56, 61, 66, 71],\n",
              "       [76, 81, 86, 91, 96]])"
            ]
          },
          "metadata": {},
          "execution_count": 21
        }
      ]
    },
    {
      "cell_type": "code",
      "source": [
        "#slicing\n",
        "m[1:3,2:4]"
      ],
      "metadata": {
        "colab": {
          "base_uri": "https://localhost:8080/"
        },
        "id": "9vysSNR5NNh3",
        "outputId": "9849cac3-048b-4d40-dc87-faede3f34bef"
      },
      "execution_count": null,
      "outputs": [
        {
          "output_type": "execute_result",
          "data": {
            "text/plain": [
              "array([[36, 41],\n",
              "       [61, 66]])"
            ]
          },
          "metadata": {},
          "execution_count": 22
        }
      ]
    },
    {
      "cell_type": "code",
      "source": [
        "print(np.sqrt(m))"
      ],
      "metadata": {
        "colab": {
          "base_uri": "https://localhost:8080/"
        },
        "id": "dLc8tx2mNaoL",
        "outputId": "d02f4b84-94b6-44ef-ff69-93ea1895ca09"
      },
      "execution_count": null,
      "outputs": [
        {
          "output_type": "stream",
          "name": "stdout",
          "text": [
            "[[1.         2.44948974 3.31662479 4.         4.58257569]\n",
            " [5.09901951 5.56776436 6.         6.40312424 6.78232998]\n",
            " [7.14142843 7.48331477 7.81024968 8.1240384  8.42614977]\n",
            " [8.71779789 9.         9.2736185  9.53939201 9.79795897]]\n"
          ]
        }
      ]
    },
    {
      "cell_type": "code",
      "source": [
        "print(np.mean(m)) \n",
        "#similary mode,median,variance with standard syntax of names"
      ],
      "metadata": {
        "colab": {
          "base_uri": "https://localhost:8080/"
        },
        "id": "z3NeYK_ENmGQ",
        "outputId": "3f937311-e7a4-4232-a928-ddd5f68a6aad"
      },
      "execution_count": null,
      "outputs": [
        {
          "output_type": "stream",
          "name": "stdout",
          "text": [
            "48.5\n"
          ]
        }
      ]
    },
    {
      "cell_type": "markdown",
      "source": [
        "#**Matplotlib**"
      ],
      "metadata": {
        "id": "im9w0MudWUS7"
      }
    },
    {
      "cell_type": "markdown",
      "source": [
        "**A visualizing python libraries**"
      ],
      "metadata": {
        "id": "pcc3uWfGWeJ1"
      }
    },
    {
      "cell_type": "code",
      "source": [
        "import matplotlib.pyplot as plt\n",
        "%matplotlib inline"
      ],
      "metadata": {
        "id": "4YZxpOnsWqxz"
      },
      "execution_count": null,
      "outputs": []
    },
    {
      "cell_type": "code",
      "source": [
        "#bar chart\n",
        "x=np.arange(1,8)\n",
        "y=np.random.randint(1,24,7)\n",
        "color=['yellow','red','green','blue','orange','black','darkblue']\n",
        "plt.bar(x,y,color=color)\n",
        "plt.title(\"Time to study per day\", \n",
        "          fontdict={'family': 'serif', \n",
        "                    'color' : 'brown',\n",
        "                    'weight': 'bold',\n",
        "                    'size': 12})\n",
        "plt.xlabel('Day number',fontdict={'family': 'serif', \n",
        "                    'color' : 'brown',\n",
        "                    'weight': 'bold',\n",
        "                    'size': 12})\n",
        "plt.ylabel('Time(in hrs)',fontdict={'family': 'serif', \n",
        "                    'color' : 'brown',\n",
        "                    'weight': 'bold',\n",
        "                    'size': 12})\n",
        "plt.show()"
      ],
      "metadata": {
        "colab": {
          "base_uri": "https://localhost:8080/",
          "height": 298
        },
        "id": "viIGhfJcXaXR",
        "outputId": "bbbb7760-b76d-4ab2-bb23-f768125dc9f8"
      },
      "execution_count": 51,
      "outputs": [
        {
          "output_type": "display_data",
          "data": {
            "text/plain": [
              "<Figure size 432x288 with 1 Axes>"
            ],
            "image/png": "[encoded data removed]"
          },
          "metadata": {
            "needs_background": "light"
          }
        }
      ]
    },
    {
      "cell_type": "code",
      "source": [
        "#line chart\n",
        "plt.plot(x,y,color='green',marker='o')\n",
        "days=['Sun','Mon','Tues','Wed','Thurs','Fri','Sat']\n",
        "plt.xticks(x,days,rotation='vertical')\n",
        "plt.title('Time vs day',fontdict={'weight':'bold','color':'black','size':12})\n",
        "plt.xlabel('Day number',fontdict={'weight':'bold','color':'black','size':12})\n",
        "plt.ylabel('Time(in hr)',fontdict={'weight':'bold','color':'black','size':12})\n",
        "plt.show()\n",
        "#linestyle:- dashed makes it a dash line "
      ],
      "metadata": {
        "colab": {
          "base_uri": "https://localhost:8080/",
          "height": 316
        },
        "id": "BV61-AmEZ85N",
        "outputId": "d628bae7-ff2e-4df0-e052-042f9835455c"
      },
      "execution_count": 65,
      "outputs": [
        {
          "output_type": "display_data",
          "data": {
            "text/plain": [
              "<Figure size 432x288 with 1 Axes>"
            ],
            "image/png": "[encoded data removed]"
          },
          "metadata": {
            "needs_background": "light"
          }
        }
      ]
    },
    {
      "cell_type": "code",
      "source": [
        "#pie chart\n",
        "plt.pie(y,startangle=90,labels=y)\n",
        "plt.legend(days,loc='lower right')\n",
        "plt.figure(figsize=(8,10))\n",
        "plt.show()\n"
      ],
      "metadata": {
        "colab": {
          "base_uri": "https://localhost:8080/",
          "height": 265
        },
        "id": "wVNYPMFWdvLH",
        "outputId": "c82f83a0-7d3f-442a-ddfa-54ef43de8c2f"
      },
      "execution_count": 81,
      "outputs": [
        {
          "output_type": "display_data",
          "data": {
            "text/plain": [
              "<Figure size 432x288 with 1 Axes>"
            ],
            "image/png": "[encoded data removed]"
          },
          "metadata": {}
        },
        {
          "output_type": "display_data",
          "data": {
            "text/plain": [
              "<Figure size 576x720 with 0 Axes>"
            ]
          },
          "metadata": {}
        }
      ]
    },
    {
      "cell_type": "code",
      "source": [
        "#scatter plot\n",
        "plt.scatter(x,y,color='orange')\n",
        "plt.plot(x,np.arange(1,21,3),color='violet')\n",
        "plt.show()"
      ],
      "metadata": {
        "colab": {
          "base_uri": "https://localhost:8080/",
          "height": 265
        },
        "id": "CxoKP73SbCBz",
        "outputId": "3f8937ac-33df-400d-837d-87eda3bd0581"
      },
      "execution_count": 87,
      "outputs": [
        {
          "output_type": "display_data",
          "data": {
            "text/plain": [
              "<Figure size 432x288 with 1 Axes>"
            ],
            "image/png": "[encoded data removed]"
          },
          "metadata": {
            "needs_background": "light"
          }
        }
      ]
    },
    {
      "cell_type": "code",
      "source": [
        "#subplot\n",
        "plt.subplot(1,2,1)\n",
        "plt.plot(x,y)\n",
        "plt.subplot(1,2,2)\n",
        "plt.bar(x,y)\n",
        "plt.show()"
      ],
      "metadata": {
        "colab": {
          "base_uri": "https://localhost:8080/",
          "height": 265
        },
        "id": "XXWe589p4zB3",
        "outputId": "25fccfd0-292a-4507-cf56-7fd92e383f87"
      },
      "execution_count": 89,
      "outputs": [
        {
          "output_type": "display_data",
          "data": {
            "text/plain": [
              "<Figure size 432x288 with 2 Axes>"
            ],
            "image/png": "[encoded data removed]"
          },
          "metadata": {
            "needs_background": "light"
          }
        }
      ]
    },
    {
      "cell_type": "code",
      "source": [
        "#Histogram\n",
        "x = np.random.normal(170, 10, 250)\n",
        "plt.hist(x,color='red')\n",
        "plt.show() "
      ],
      "metadata": {
        "colab": {
          "base_uri": "https://localhost:8080/",
          "height": 265
        },
        "id": "rldiTNJj5dci",
        "outputId": "2e6ed0d3-4354-4b72-b4a5-f2c15fb292c1"
      },
      "execution_count": 93,
      "outputs": [
        {
          "output_type": "display_data",
          "data": {
            "text/plain": [
              "<Figure size 432x288 with 1 Axes>"
            ],
            "image/png": "[encoded data removed]"
          },
          "metadata": {
            "needs_background": "light"
          }
        }
      ]
    }
  ]
}